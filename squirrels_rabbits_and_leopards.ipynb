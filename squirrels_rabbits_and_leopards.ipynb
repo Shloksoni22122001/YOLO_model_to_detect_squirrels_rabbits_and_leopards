{
  "cells": [
    {
      "cell_type": "markdown",
      "metadata": {},
      "source": [
        "# A Program to detect leopard or squirells or rabbits"
      ]
    },
    {
      "cell_type": "markdown",
      "metadata": {},
      "source": [
        "## only for google colab to import data from drive <optional>"
      ]
    },
    {
      "cell_type": "code",
      "execution_count": 1,
      "metadata": {
        "id": "mWY4T97S105b"
      },
      "outputs": [],
      "source": [
        "from google.colab import drive"
      ]
    },
    {
      "cell_type": "markdown",
      "metadata": {},
      "source": [
        "## only for google colab to mount the drive at a point or folder <optional>"
      ]
    },
    {
      "cell_type": "code",
      "execution_count": null,
      "metadata": {
        "id": "cPNhA_AimR19"
      },
      "outputs": [],
      "source": [
        "drive.mount('/content/gdrive')"
      ]
    },
    {
      "cell_type": "markdown",
      "metadata": {},
      "source": [
        "## install dependencies"
      ]
    },
    {
      "cell_type": "code",
      "execution_count": null,
      "metadata": {
        "id": "ymy-c66Q2ANO"
      },
      "outputs": [],
      "source": [
        "!pip install ultralytics"
      ]
    },
    {
      "cell_type": "markdown",
      "metadata": {},
      "source": [
        "## import YOLO model"
      ]
    },
    {
      "cell_type": "code",
      "execution_count": 7,
      "metadata": {
        "id": "OO8fNLx92CW2"
      },
      "outputs": [],
      "source": [
        "from ultralytics import YOLO"
      ]
    },
    {
      "cell_type": "markdown",
      "metadata": {},
      "source": [
        "## declaring model as Yolov8x.yaml object"
      ]
    },
    {
      "cell_type": "code",
      "execution_count": null,
      "metadata": {
        "id": "OPfxvyft2IeT"
      },
      "outputs": [],
      "source": [
        "model=YOLO('yolov8x.yaml')\n"
      ]
    },
    {
      "cell_type": "markdown",
      "metadata": {},
      "source": [
        "## give more epochs if want more accuracy"
      ]
    },
    {
      "cell_type": "code",
      "execution_count": null,
      "metadata": {},
      "outputs": [],
      "source": [
        "model.train(data='path_to/squirrels_rabbits_and_leopards.yaml',epochs=300) "
      ]
    },
    {
      "cell_type": "markdown",
      "metadata": {},
      "source": [
        "## getting trainedmodel to predict from it"
      ]
    },
    {
      "cell_type": "code",
      "execution_count": 15,
      "metadata": {
        "id": "9h6UCmaJ6SQe"
      },
      "outputs": [],
      "source": [
        "trainedmodel= YOLO('/content/gdrive/MyDrive/Data_Science/squirrels_rabbits_and_leopards/runs/detect/train/weights/best.pt')"
      ]
    },
    {
      "cell_type": "markdown",
      "metadata": {},
      "source": [
        " ## give the image path to predict"
      ]
    },
    {
      "cell_type": "code",
      "execution_count": null,
      "metadata": {
        "id": "8QVIj9WRtyTC"
      },
      "outputs": [],
      "source": [
        "trainedmodel.predict('Path/to/image')\n"
      ]
    }
  ],
  "metadata": {
    "accelerator": "GPU",
    "colab": {
      "gpuType": "T4",
      "provenance": []
    },
    "kernelspec": {
      "display_name": "Python 3",
      "name": "python3"
    },
    "language_info": {
      "name": "python"
    }
  },
  "nbformat": 4,
  "nbformat_minor": 0
}
